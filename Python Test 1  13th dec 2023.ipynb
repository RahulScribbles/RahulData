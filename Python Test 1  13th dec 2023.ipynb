{
 "cells": [
  {
   "cell_type": "markdown",
   "id": "a04f31b0",
   "metadata": {},
   "source": [
    "# Test  Questions "
   ]
  },
  {
   "cell_type": "markdown",
   "id": "cf8f6f55",
   "metadata": {},
   "source": [
    "# Q-1 Difference between python version 2 and version 3 ? how do you check current version of python ?"
   ]
  },
  {
   "cell_type": "markdown",
   "id": "bf5d1e17",
   "metadata": {},
   "source": [
    "# Ans: Python 2 and Python 3 are two major versions of the Python programming language, and they have some key differences. Here are some of the significant distinctions:\n",
    "# Print Statement:\n",
    "\n",
    "# Python 2: Uses the print statement without parentheses, like print \"Hello\".\n",
    "\n",
    "# Python 3: Requires parentheses for the print function, like print(\"Hello\").\n",
    "\n",
    "# Integer Division:\n",
    "\n",
    "# Python 2: Performs integer division by default. For example, 5 / 2 would result in 2.\n",
    "\n",
    "# Python 3: Performs true division by default. For example, 5 / 2 would result in 2.5.\n",
    "\n",
    "# Unicode Support:\n",
    "\n",
    "# Python 2: Strings are ASCII by default, and Unicode support is available\n",
    "\n",
    "# Python 3: Strings are Unicode by default.\n",
    "\n",
    "To check the current version of Python, you can open a terminal or command prompt and type the following command:\n",
    "\n",
    "# python --version\n",
    "\n",
    "# python3 --version\n",
    "\n",
    "\n",
    "\n"
   ]
  },
  {
   "cell_type": "markdown",
   "id": "82a85d10",
   "metadata": {},
   "source": [
    "# Q- 2 Difference between local variable and global variable ?exaples?\n",
    "\n"
   ]
  },
  {
   "cell_type": "markdown",
   "id": "8aea65e6",
   "metadata": {},
   "source": [
    "# Ans: Global variables are accessible throughout the entire program, while local variables are only accessible within the function or block they are declared in.\n",
    "\n",
    "`a global variable is a variable that is declared outside all functions or blocks. Because of its scope, it can be accessed and modified by any part of the code, making it globally available.\n",
    "\n",
    "a local variable is a variable that is declared within a function or a block. Its scope is limited to that function or block, meaning it can't be accessed or modified by code outside of that function or block."
   ]
  },
  {
   "cell_type": "code",
   "execution_count": 6,
   "id": "f69b2727",
   "metadata": {},
   "outputs": [
    {
     "name": "stdout",
     "output_type": "stream",
     "text": [
      "Inside the function, x = 10\n"
     ]
    }
   ],
   "source": [
    "# Example\n",
    "def my_function():\n",
    "    # Local variable 'x' is declared inside the function\n",
    "    x = 10\n",
    "    print(\"Inside the function, x =\", x)\n",
    "\n",
    "# Call the function\n",
    "my_function()\n",
    "\n",
    "\n"
   ]
  },
  {
   "cell_type": "code",
   "execution_count": 8,
   "id": "980cbf65",
   "metadata": {},
   "outputs": [
    {
     "name": "stdout",
     "output_type": "stream",
     "text": [
      "Inside the function, y = 20\n",
      "Outside the function, y = 20\n"
     ]
    }
   ],
   "source": [
    "# Example 2\n",
    "# Global variable 'y' is declared outside any function\n",
    "y = 20\n",
    "\n",
    "def another_function():\n",
    "    # Accessing the global variable 'y' inside the function\n",
    "    print(\"Inside the function, y =\", y)\n",
    "\n",
    "# Call the function\n",
    "another_function()\n",
    "\n",
    "# Global variables are accessible outside functions\n",
    "print(\"Outside the function, y =\", y)\n"
   ]
  },
  {
   "cell_type": "markdown",
   "id": "968ee90f",
   "metadata": {},
   "source": [
    "# Q- 3 Waht are data types in python ?"
   ]
  },
  {
   "cell_type": "markdown",
   "id": "68ba6f5e",
   "metadata": {},
   "source": [
    "Ans\n",
    " In Python, data types are classifications that categorize various types of data, indicating the operations that can be performed on them and the way they are stored. Python has several built-in data types, and they can be broadly categorized into the following:\n",
    " \n",
    "int: Integer type represents whole numbers without any decimal points. For example, 5, -10, 1000.\n",
    " \n",
    "float: Float type represents numbers with decimal points or in exponential form. For example, 3.14, 2.0, 1.5e2.\n",
    "\n",
    "str: String type represents a sequence of characters. Strings are immutable in Python. For example, 'hello', \"world\".\n",
    "\n",
    "list: List is a mutable sequence that can contain elements of different data types. For example, [1, 2, 3], ['apple', 'orange', 'banana'].\n",
    "\n",
    "set: Set is an unordered collection of unique elements. For example, {1, 2, 3}, {'apple', 'orange', 'banana'}.\n",
    "\n",
    "dict: Dictionary is a collection of key-value pairs. Each key must be unique. For example, {'name': 'John', 'age': 25}.\n",
    "\n",
    "bool: Boolean type represents truth values, either True or False.\n",
    "\n",
    "\n"
   ]
  },
  {
   "cell_type": "markdown",
   "id": "c5ffab15",
   "metadata": {},
   "source": [
    "# Q - 4 What is difference between mutable and immutable data types? How many data types are mutable or not ? please provide reason also with example ? "
   ]
  },
  {
   "cell_type": "code",
   "execution_count": 14,
   "id": "cf9b1e8b",
   "metadata": {},
   "outputs": [
    {
     "ename": "SyntaxError",
     "evalue": "invalid decimal literal (2089062351.py, line 8)",
     "output_type": "error",
     "traceback": [
      "\u001b[1;36m  Cell \u001b[1;32mIn[14], line 8\u001b[1;36m\u001b[0m\n\u001b[1;33m    1.List:\u001b[0m\n\u001b[1;37m     ^\u001b[0m\n\u001b[1;31mSyntaxError\u001b[0m\u001b[1;31m:\u001b[0m invalid decimal literal\n"
     ]
    }
   ],
   "source": [
    "Mutable Data Types:\n",
    "\n",
    "Mutable data types are those whose values can be changed or modified after they are created.\n",
    "When you modify a mutable object, you are working with the same object in memory.\n",
    "\n",
    "Examples of mutable data types in Python include:\n",
    "\n",
    "1.List:\n",
    "\n",
    "Lists are ordered, mutable sequences.\n",
    "\n",
    "2. Set:\n",
    "\n",
    "Sets are unordered collections of unique elements.\n",
    "\n",
    "3. Dictionary:\n",
    "\n",
    "Dictionaries are collections of key-value pairs.\n",
    "\n",
    "Immutable Data Types:\n",
    "\n",
    "Immutable data types are those whose values cannot be changed after they are created.\n",
    "When you \"modify\" an immutable object, you are actually creating a new object in memory.\n",
    "Examples of immutable data types in Python include:\n",
    "    \n",
    "1. Integers:\n",
    "\n",
    "Integer values cannot be changed once they are assigned.\n",
    "\n",
    "2. Floats:\n",
    "\n",
    "Floating-point numbers are immutable.\n",
    "\n",
    "3. Tuples:\n",
    "\n",
    "Tuples are ordered and immutable sequences.\n",
    "\n",
    "4. Strings:\n",
    "\n",
    "Strings are sequences of characters and are immutable.\n",
    "\n",
    "\n",
    "\n"
   ]
  },
  {
   "cell_type": "code",
   "execution_count": 12,
   "id": "a6c9c5d8",
   "metadata": {},
   "outputs": [
    {
     "name": "stdout",
     "output_type": "stream",
     "text": [
      "[10, 2, 3]\n"
     ]
    }
   ],
   "source": [
    "# Example List\n",
    "my_list = [1, 2, 3]\n",
    "my_list[0] = 10\n",
    "print(my_list)  # Output: [10, 2, 3]\n"
   ]
  },
  {
   "cell_type": "code",
   "execution_count": 15,
   "id": "3b0c9abe",
   "metadata": {},
   "outputs": [
    {
     "name": "stdout",
     "output_type": "stream",
     "text": [
      "{1, 2, 3, 4}\n"
     ]
    }
   ],
   "source": [
    "# example Set\n",
    "\n",
    "my_set = {1, 2, 3}\n",
    "my_set.add(4)\n",
    "print(my_set)  # Output: {1, 2, 3, 4}\n"
   ]
  },
  {
   "cell_type": "code",
   "execution_count": 17,
   "id": "3d180e0f",
   "metadata": {},
   "outputs": [
    {
     "name": "stdout",
     "output_type": "stream",
     "text": [
      "{'a': 10, 'b': 2}\n"
     ]
    }
   ],
   "source": [
    "# example dict\n",
    "\n",
    "my_dict = {'a': 1, 'b': 2}\n",
    "my_dict['a'] = 10\n",
    "print(my_dict)  # Output: {'a': 10, 'b': 2}\n"
   ]
  },
  {
   "cell_type": "markdown",
   "id": "dbed222e",
   "metadata": {},
   "source": [
    "# Q -5 Why we use loops ? Please provide 3 examples of for loop and 3 exaples of while loops? "
   ]
  },
  {
   "cell_type": "markdown",
   "id": "efbca108",
   "metadata": {},
   "source": [
    "# Ans\n",
    "Loops are used in programming to execute a set of statements or code repeatedly. They are essential for automating repetitive tasks and iterating over data structures. There are two main types of loops in Python: for loops and while loops.\n",
    "\n",
    "Reasons for Using Loops:\n",
    "\n",
    "Automation of Repetitive Tasks:\n",
    "\n",
    "Loops allow you to execute a block of code repeatedly, reducing the need for redundant and repetitive coding.\n",
    "\n",
    "Iteration Over Data Structures:\n",
    "\n",
    "Loops provide an efficient way to iterate over elements in data structures such as lists, tuples, sets, and dictionaries.\n",
    "\n",
    "Dynamic Control Flow:\n",
    "\n",
    "Loops enable dynamic control flow based on conditions, allowing your program to adapt and respond to changing situations during execution.\n"
   ]
  },
  {
   "cell_type": "markdown",
   "id": "5ac78ef9",
   "metadata": {},
   "source": []
  },
  {
   "cell_type": "code",
   "execution_count": 23,
   "id": "c8e2bcda",
   "metadata": {},
   "outputs": [
    {
     "ename": "NameError",
     "evalue": "name 'exap' is not defined",
     "output_type": "error",
     "traceback": [
      "\u001b[1;31m---------------------------------------------------------------------------\u001b[0m",
      "\u001b[1;31mNameError\u001b[0m                                 Traceback (most recent call last)",
      "Cell \u001b[1;32mIn[23], line 1\u001b[0m\n\u001b[1;32m----> 1\u001b[0m exap\n",
      "\u001b[1;31mNameError\u001b[0m: name 'exap' is not defined"
     ]
    }
   ],
   "source": [
    "exap"
   ]
  },
  {
   "cell_type": "code",
   "execution_count": 25,
   "id": "074cd3e2",
   "metadata": {},
   "outputs": [
    {
     "name": "stdout",
     "output_type": "stream",
     "text": [
      "1\n",
      "2\n",
      "3\n",
      "4\n",
      "5\n"
     ]
    }
   ],
   "source": [
    "# example for loop\n",
    "numbers = [1, 2, 3, 4, 5]\n",
    "for num in numbers:\n",
    "    print(num)\n"
   ]
  },
  {
   "cell_type": "code",
   "execution_count": 27,
   "id": "bf9aa6d6",
   "metadata": {},
   "outputs": [
    {
     "name": "stdout",
     "output_type": "stream",
     "text": [
      "5\n",
      "4\n",
      "3\n",
      "2\n",
      "1\n"
     ]
    }
   ],
   "source": [
    "# exapmle of while loop \n",
    "count = 5\n",
    "while count > 0:\n",
    "    print(count)\n",
    "    count -= 1\n"
   ]
  },
  {
   "cell_type": "markdown",
   "id": "f43ac7c9",
   "metadata": {},
   "source": [
    "# Q- 6 Why we use functions ? Difference between lambda , filter ,reduce , map function with example ?"
   ]
  },
  {
   "cell_type": "markdown",
   "id": "dceb32b9",
   "metadata": {},
   "source": [
    "# Ans - \n",
    "\n",
    "Functions allow you to break down your program into smaller, manageable pieces. \n",
    "\n",
    "Once a function is defined, it can be reused multiple times in different parts of your program. \n",
    "\n",
    "Functions can improve the readability of your code by giving meaningful names to different operations.\n",
    "\n",
    "Difference Between lambda, filter, reduce, and map Functions:\n",
    "\n",
    "1. lamda function\n",
    "A lambda function is a small anonymous function.\n",
    "\n",
    "A lambda function can take any number of arguments, but can only have one expression.\n",
    "\n",
    "2. filter function\n",
    "The filter function is used to filter elements of an iterable based on a function's condition.\n",
    "\n",
    "3.reduce function\n",
    "The reduce function is used to cumulatively apply a binary function to the items of an iterable, from left to right.\n",
    "It is part of the functools module in Python 3.\n",
    "\n",
    "4.map function\n",
    "the map function applies a given function to all items in an iterable and returns an iterator of the results.\n",
    "\n",
    "In summary, lambda is used for creating anonymous functions, filter is used for filtering elements, reduce is used for cumulative operations, and map is used for applying a function to all elements in an iterable. \n"
   ]
  },
  {
   "cell_type": "code",
   "execution_count": 29,
   "id": "ef40d882",
   "metadata": {},
   "outputs": [
    {
     "name": "stdout",
     "output_type": "stream",
     "text": [
      "5\n"
     ]
    }
   ],
   "source": [
    "#examples of lamda function \n",
    "\n",
    "add = lambda x, y: x + y\n",
    "print(add(2, 3))  \n"
   ]
  },
  {
   "cell_type": "code",
   "execution_count": 31,
   "id": "957c081d",
   "metadata": {},
   "outputs": [
    {
     "name": "stdout",
     "output_type": "stream",
     "text": [
      "[2, 4, 6]\n"
     ]
    }
   ],
   "source": [
    "#examples of filter function\n",
    "numbers = [1, 2, 3, 4, 5, 6]\n",
    "even_numbers = list(filter(lambda x: x % 2 == 0, numbers))\n",
    "print(even_numbers)  \n"
   ]
  },
  {
   "cell_type": "code",
   "execution_count": 33,
   "id": "824a1526",
   "metadata": {},
   "outputs": [
    {
     "name": "stdout",
     "output_type": "stream",
     "text": [
      "120\n"
     ]
    }
   ],
   "source": [
    "#example of reduce function\n",
    "from functools import reduce\n",
    "numbers = [1, 2, 3, 4, 5]        #(1*2=2, 2*3=6, 6*4=24, 24*5=120)\n",
    "product = reduce(lambda x, y: x * y, numbers)\n",
    "print(product)  \n"
   ]
  },
  {
   "cell_type": "code",
   "execution_count": 35,
   "id": "823970b5",
   "metadata": {},
   "outputs": [
    {
     "name": "stdout",
     "output_type": "stream",
     "text": [
      "[1, 4, 9, 16, 25]\n"
     ]
    }
   ],
   "source": [
    "#example of map function\n",
    "numbers = [1, 2, 3, 4, 5]\n",
    "squared_numbers = list(map(lambda x: x**2, numbers))\n",
    "print(squared_numbers)  "
   ]
  },
  {
   "cell_type": "markdown",
   "id": "3575efd9",
   "metadata": {},
   "source": [
    "# Q- 7 Difference between list and tuple ? please provide index() , insert() , append() , reverse() examples in list ?"
   ]
  },
  {
   "cell_type": "markdown",
   "id": "0b75e03a",
   "metadata": {},
   "source": [
    "# Ans \n",
    "\n",
    "List vs. Tuple:\n",
    "List:\n",
    "\n",
    "Lists are mutable, meaning you can change their content (add, remove, or modify elements) after they are created.\n",
    "Lists are defined using square brackets [].\n",
    "Tuple:\n",
    "\n",
    "Tuples are immutable, meaning their elements cannot be changed after the tuple is created.\n",
    "Tuples are defined using parentheses ().\n",
    "\n",
    "Examples of List Operations:\n",
    "index():\n",
    "\n",
    "The index() method returns the index of the first occurrence of a specified element in the list.\n",
    "\n",
    "insert():\n",
    "\n",
    "The insert() method inserts an element at a specified position in the list.\n",
    "\n",
    "append():\n",
    "\n",
    "The append() method adds an element to the end of the list.\n",
    "\n",
    "reverse():\n",
    "\n",
    "The reverse() method reverses the elements of the list in place.\n",
    "\n",
    "in short\n",
    "index(): Returns the index of the first occurrence of a specified element.\n",
    "insert(): Inserts an element at a specified position.\n",
    "append(): Adds an element to the end of the list.\n",
    "reverse(): Reverses the order of elements in the list."
   ]
  },
  {
   "cell_type": "code",
   "execution_count": 46,
   "id": "5db3dfb1",
   "metadata": {},
   "outputs": [
    {
     "name": "stdout",
     "output_type": "stream",
     "text": [
      "Index of 40: 3\n"
     ]
    }
   ],
   "source": [
    "#example of index().\n",
    "\n",
    "my_list = [10, 20, 30, 40, 30, 50]\n",
    "index_40 = my_list.index(40)\n",
    "print(\"Index of 40:\", index_40)  # Output: Index of 40: 3\n"
   ]
  },
  {
   "cell_type": "code",
   "execution_count": 40,
   "id": "6165d091",
   "metadata": {},
   "outputs": [
    {
     "name": "stdout",
     "output_type": "stream",
     "text": [
      "[1, 2, 10, 3, 4, 5]\n"
     ]
    }
   ],
   "source": [
    "#example of insert()\n",
    "\n",
    "my_list = [1, 2, 3, 4, 5]\n",
    "my_list.insert(2, 10)\n",
    "print(my_list)  # Output: [1, 2, 10, 3, 4, 5]\n"
   ]
  },
  {
   "cell_type": "code",
   "execution_count": 42,
   "id": "376f7590",
   "metadata": {},
   "outputs": [
    {
     "name": "stdout",
     "output_type": "stream",
     "text": [
      "[1, 2, 3, 4]\n"
     ]
    }
   ],
   "source": [
    "#example of append() \n",
    "\n",
    "my_list = [1, 2, 3]\n",
    "my_list.append(4)\n",
    "print(my_list)  # Output: [1, 2, 3, 4]\n"
   ]
  },
  {
   "cell_type": "code",
   "execution_count": 44,
   "id": "ca0b1842",
   "metadata": {},
   "outputs": [
    {
     "name": "stdout",
     "output_type": "stream",
     "text": [
      "[5, 4, 3, 2, 1]\n"
     ]
    }
   ],
   "source": [
    "#example of reverse()\n",
    "\n",
    "my_list = [1, 2, 3, 4, 5]\n",
    "my_list.reverse()\n",
    "print(my_list)  # Output: [5, 4, 3, 2, 1]\n"
   ]
  },
  {
   "cell_type": "markdown",
   "id": "7c197d29",
   "metadata": {},
   "source": [
    "# Q- 8 Difference between dictionary and set ? Please provide keys() , values() , items() example of dictionary and union() , intersection() in sets ? Is frozenset is mutable or not ? "
   ]
  },
  {
   "cell_type": "markdown",
   "id": "444d2f2a",
   "metadata": {},
   "source": [
    "# Ans-\n",
    "\n",
    "Dictionary vs. Set:\n",
    "\n",
    "Dictionary:\n",
    "\n",
    "A dictionary is an unordered collection of key-value pairs.\n",
    "Each key in a dictionary must be unique.\n",
    "Dictionaries are defined using curly braces {}.\n",
    "\n",
    "Set:\n",
    "\n",
    "A set is an unordered collection of unique elements.\n",
    "Sets do not allow duplicate values.\n",
    "Sets are defined using curly braces {} or the set() constructor\n",
    "\n",
    "Dictionary Examples:\n",
    "keys():\n",
    "\n",
    "The keys() method returns a view of all the keys in the dictionary.\n",
    "\n",
    "values():\n",
    "\n",
    "The values() method returns a view of all the values in the dictionary.\n",
    "\n",
    "items():\n",
    "\n",
    "The items() method returns a view of all key-value pairs in the dictionary.\n",
    "\n",
    "\n",
    "Set Examples:\n",
    "\n",
    "union():\n",
    "\n",
    "The union() method returns a new set containing all unique elements from both sets.\n",
    "\n",
    "intersection():\n",
    "\n",
    "The intersection() method returns a new set containing common elements from both sets.\n",
    "\n",
    "\n",
    "A Frozen set\n",
    "\n",
    "A frozenset is immutable, meaning you cannot add, remove, or modify elements after it is created.\n"
   ]
  },
  {
   "cell_type": "code",
   "execution_count": 48,
   "id": "a980b72b",
   "metadata": {},
   "outputs": [
    {
     "name": "stdout",
     "output_type": "stream",
     "text": [
      "dict_keys(['a', 'b', 'c'])\n"
     ]
    }
   ],
   "source": [
    "#example of dictionary  \n",
    "# 1 keys()\n",
    "\n",
    "my_dict = {'a': 1, 'b': 2, 'c': 3}\n",
    "key_view = my_dict.keys()\n",
    "print(key_view)  # Output: dict_keys(['a', 'b', 'c'])\n"
   ]
  },
  {
   "cell_type": "code",
   "execution_count": 49,
   "id": "bfb8e123",
   "metadata": {},
   "outputs": [
    {
     "name": "stdout",
     "output_type": "stream",
     "text": [
      "dict_values([1, 2, 3])\n"
     ]
    }
   ],
   "source": [
    "#example of dictionary  \n",
    "# 2 values()\n",
    "\n",
    "my_dict = {'a': 1, 'b': 2, 'c': 3}\n",
    "value_view = my_dict.values()\n",
    "print(value_view)  # Output: dict_values([1, 2, 3])\n"
   ]
  },
  {
   "cell_type": "code",
   "execution_count": 51,
   "id": "752077be",
   "metadata": {},
   "outputs": [
    {
     "name": "stdout",
     "output_type": "stream",
     "text": [
      "dict_items([('a', 1), ('b', 2), ('c', 3)])\n"
     ]
    }
   ],
   "source": [
    "#example of dictionary  \n",
    "# 3 items()\n",
    "\n",
    "my_dict = {'a': 1, 'b': 2, 'c': 3}\n",
    "items_view = my_dict.items()\n",
    "print(items_view)  # Output: dict_items([('a', 1), ('b', 2), ('c', 3)])\n"
   ]
  },
  {
   "cell_type": "code",
   "execution_count": 52,
   "id": "47dcf885",
   "metadata": {},
   "outputs": [
    {
     "name": "stdout",
     "output_type": "stream",
     "text": [
      "{1, 2, 3, 4, 5}\n"
     ]
    }
   ],
   "source": [
    "#examples of set\n",
    "# 1 union()\n",
    "\n",
    "set1 = {1, 2, 3}\n",
    "set2 = {3, 4, 5}\n",
    "union_set = set1.union(set2)\n",
    "print(union_set)  # Output: {1, 2, 3, 4, 5}\n"
   ]
  },
  {
   "cell_type": "code",
   "execution_count": 53,
   "id": "95b08158",
   "metadata": {},
   "outputs": [
    {
     "name": "stdout",
     "output_type": "stream",
     "text": [
      "{3}\n"
     ]
    }
   ],
   "source": [
    "#examples of set\n",
    "# 2  intersection()\n",
    "\n",
    "set1 = {1, 2, 3}\n",
    "set2 = {3, 4, 5}\n",
    "intersection_set = set1.intersection(set2)\n",
    "print(intersection_set)  # Output: {3}\n"
   ]
  },
  {
   "cell_type": "code",
   "execution_count": 54,
   "id": "9d4acc7d",
   "metadata": {},
   "outputs": [
    {
     "name": "stdout",
     "output_type": "stream",
     "text": [
      "frozenset({1, 2, 3})\n"
     ]
    }
   ],
   "source": [
    "# example of sets \n",
    "\n",
    "# Frozen set\n",
    "\n",
    "frozen_set = frozenset([1, 2, 3])\n",
    "print(frozen_set)  # Output: frozenset({1, 2, 3})\n"
   ]
  },
  {
   "cell_type": "markdown",
   "id": "7c4228c1",
   "metadata": {},
   "source": [
    "# Q- 9 What are decorators ? Please provide examples ?"
   ]
  },
  {
   "cell_type": "markdown",
   "id": "8195a25f",
   "metadata": {},
   "source": [
    "# Ans- \n",
    "\n",
    "In Python, a decorator is a special type of function that can be used to modify the behavior of another function. Decorators are often used to extend or enhance the functionality of functions without modifying their actual code. They provide a way to wrap a function with additional logic or functionality.\n",
    "\n",
    "The syntax for using decorators involves placing the decorator symbol @ above the function definition. Here's a simple example of a decorator:\n"
   ]
  },
  {
   "cell_type": "markdown",
   "id": "c001c2b2",
   "metadata": {},
   "source": [
    "# Q- 10 What are list comprehension ? Please provide examples ?"
   ]
  },
  {
   "cell_type": "markdown",
   "id": "4f9f735b",
   "metadata": {},
   "source": [
    "# Ans-\n",
    "\n",
    "List comprehensions are a concise and expressive way to create lists in Python. They provide a more readable and compact syntax for generating lists by applying an expression to each item in an iterable (e.g., a list, tuple, or string). List comprehensions consist of an expression followed by at least one for clause and zero or more if clauses.\n",
    "\n"
   ]
  },
  {
   "cell_type": "code",
   "execution_count": 56,
   "id": "8100f880",
   "metadata": {},
   "outputs": [
    {
     "name": "stdout",
     "output_type": "stream",
     "text": [
      "[0, 1, 4, 9, 16, 25, 36, 49, 64, 81]\n"
     ]
    }
   ],
   "source": [
    "#Example 1: Basic List Comprehension\n",
    "\n",
    "# Creating a list of squares for numbers from 0 to 9\n",
    "squares = [x**2 for x in range(10)]\n",
    "print(squares)\n",
    "# Output: [0, 1, 4, 9, 16, 25, 36, 49, 64, 81]\n"
   ]
  },
  {
   "cell_type": "code",
   "execution_count": 57,
   "id": "ab62e6e0",
   "metadata": {},
   "outputs": [
    {
     "name": "stdout",
     "output_type": "stream",
     "text": [
      "[0, 2, 4, 6, 8]\n"
     ]
    }
   ],
   "source": [
    "#Example 2: List Comprehension with Condition\n",
    "\n",
    "# Creating a list of even numbers from 0 to 9\n",
    "\n",
    "even_numbers = [x for x in range(10) if x % 2 == 0]\n",
    "print(even_numbers)  # Output: [0, 2, 4, 6, 8]\n",
    "\n"
   ]
  },
  {
   "cell_type": "code",
   "execution_count": 58,
   "id": "424988a9",
   "metadata": {},
   "outputs": [
    {
     "name": "stdout",
     "output_type": "stream",
     "text": [
      "[(0, 0), (0, 1), (1, 0), (1, 1)]\n"
     ]
    }
   ],
   "source": [
    "#Example 3: Nested List Comprehension\n",
    "\n",
    "# Creating a list of tuples representing Cartesian coordinates\n",
    "\n",
    "cartesian_coordinates = [(x, y) for x in range(2) for y in range(2)]\n",
    "print(cartesian_coordinates)      # Output: [(0, 0), (0, 1), (1, 0), (1, 1)]\n",
    "\n"
   ]
  },
  {
   "cell_type": "code",
   "execution_count": 59,
   "id": "660e8c03",
   "metadata": {},
   "outputs": [
    {
     "name": "stdout",
     "output_type": "stream",
     "text": [
      "[0, 4, 16, 36, 64]\n"
     ]
    }
   ],
   "source": [
    "#Example 4: List Comprehension with Condition and Expression\n",
    "\n",
    "# Creating a list of squares for even numbers from 0 to 9\n",
    "\n",
    "squares_of_evens = [x**2 for x in range(10) if x % 2 == 0]\n",
    "print(squares_of_evens)                  # Output: [0, 4, 16, 36, 64]\n",
    "\n"
   ]
  },
  {
   "cell_type": "code",
   "execution_count": 60,
   "id": "7102a781",
   "metadata": {},
   "outputs": [
    {
     "name": "stdout",
     "output_type": "stream",
     "text": [
      "[4, 14, 3, 8]\n"
     ]
    }
   ],
   "source": [
    "#Example 5: List Comprehension with a Function\n",
    "\n",
    "# Creating a list of lengths of words in a sentence\n",
    "sentence = \"List comprehensions are powerful\"\n",
    "word_lengths = [len(word) for word in sentence.split()]\n",
    "print(word_lengths)\n",
    "# Output: [4, 14, 3, 8]\n"
   ]
  },
  {
   "cell_type": "markdown",
   "id": "7d661870",
   "metadata": {},
   "source": [
    "# Q- 11 How do you create an array from a user defined list ?"
   ]
  },
  {
   "cell_type": "markdown",
   "id": "8d409e4f",
   "metadata": {},
   "source": [
    "# Ans- \n",
    "\n",
    "In Python, you can create an array from a user-defined list using the array module, which provides an array type that is similar to a list but with some differences, such as being more memory-efficient for certain types of operations.\n",
    "\n",
    "\n"
   ]
  },
  {
   "cell_type": "code",
   "execution_count": 61,
   "id": "e32b5a06",
   "metadata": {},
   "outputs": [
    {
     "name": "stdout",
     "output_type": "stream",
     "text": [
      "array('i', [1, 2, 3, 4, 5])\n"
     ]
    }
   ],
   "source": [
    "from array import array\n",
    "\n",
    "# User-defined list\n",
    "user_list = [1, 2, 3, 4, 5]\n",
    "\n",
    "# Creating an array from the list (assuming integer values)\n",
    "user_array = array('i', user_list)\n",
    "\n",
    "# Displaying the array\n",
    "print(user_array)\n"
   ]
  },
  {
   "cell_type": "markdown",
   "id": "e29b5397",
   "metadata": {},
   "source": [
    "# Q- 12 Difference between hstack() and vstack()  with example?"
   ]
  },
  {
   "cell_type": "markdown",
   "id": "3ce26221",
   "metadata": {},
   "source": [
    "# Ans -\n",
    "In NumPy, hstack() and vstack() are functions used to concatenate arrays horizontally and vertically, respectively.\n",
    "\n",
    "numpy.hstack()\n",
    "\n",
    "The hstack() function is used to stack arrays in sequence horizontally (column-wise). It takes a tuple or a list of arrays as an argument and returns a single array.\n",
    "\n",
    "\n",
    "numpy.vstack()\n",
    "\n",
    "The vstack() function is used to stack arrays in sequence vertically (row-wise). Like hstack(), it takes a tuple or a list of arrays as an argument and returns a single array.\n",
    "\n"
   ]
  },
  {
   "cell_type": "code",
   "execution_count": 62,
   "id": "ac07c198",
   "metadata": {},
   "outputs": [
    {
     "name": "stdout",
     "output_type": "stream",
     "text": [
      "[1 2 3 4 5 6]\n"
     ]
    }
   ],
   "source": [
    "\n",
    "#Example hstack()\n",
    "\n",
    "import numpy as np\n",
    "\n",
    "# Creating two arrays\n",
    "arr1 = np.array([1, 2, 3])\n",
    "arr2 = np.array([4, 5, 6])\n",
    "\n",
    "# Horizontally stacking the arrays\n",
    "result = np.hstack((arr1, arr2))\n",
    "\n",
    "print(result)\n",
    "# Output: [1 2 3 4 5 6]\n",
    "\n",
    "\n",
    "#In this example, arr1 and arr2 are horizontally stacked to create a new array result with elements [1, 2, 3, 4, 5, 6]."
   ]
  },
  {
   "cell_type": "code",
   "execution_count": 63,
   "id": "6ce6f692",
   "metadata": {},
   "outputs": [
    {
     "name": "stdout",
     "output_type": "stream",
     "text": [
      "[[1 2 3]\n",
      " [4 5 6]]\n"
     ]
    }
   ],
   "source": [
    "#Example vstack()\n",
    "\n",
    "import numpy as np\n",
    "\n",
    "# Creating two arrays\n",
    "arr1 = np.array([1, 2, 3])\n",
    "arr2 = np.array([4, 5, 6])\n",
    "\n",
    "# Vertically stacking the arrays\n",
    "result = np.vstack((arr1, arr2))\n",
    "\n",
    "print(result)\n",
    "# Output:\n",
    "# [[1 2 3]\n",
    "#  [4 5 6]]\n",
    "\n",
    "\n",
    "#In this example, arr1 and arr2 are vertically stacked to create a new 2D array result with rows \n",
    "[[1, 2, 3], \n",
    " [4, 5, 6]]."
   ]
  },
  {
   "cell_type": "markdown",
   "id": "553eb2c1",
   "metadata": {},
   "source": [
    "# Q-13 What is zeros() , ones() , eye() , diag() , randint() , rand() , seed() , linspace() , unique() in NumPy ? Please provide 1-1 examples of these functions ? "
   ]
  },
  {
   "cell_type": "code",
   "execution_count": 65,
   "id": "ce8e0c7e",
   "metadata": {},
   "outputs": [
    {
     "name": "stdout",
     "output_type": "stream",
     "text": [
      "[0. 0. 0. 0. 0.]\n"
     ]
    }
   ],
   "source": [
    "#numpy.zeros()\n",
    "\n",
    "#The zeros() function creates an array filled with zeros.\n",
    "\n",
    "import numpy as np\n",
    "\n",
    "# Create a 1D array of zeros\n",
    "zeros_array = np.zeros(5)\n",
    "print(zeros_array)\n",
    "# Output: [0. 0. 0. 0. 0.]\n"
   ]
  },
  {
   "cell_type": "code",
   "execution_count": 66,
   "id": "92b73e01",
   "metadata": {},
   "outputs": [
    {
     "name": "stdout",
     "output_type": "stream",
     "text": [
      "[[1. 1. 1.]\n",
      " [1. 1. 1.]]\n"
     ]
    }
   ],
   "source": [
    "#numpy.ones()\n",
    "#The ones() function creates an array filled with ones.\n",
    "\n",
    "import numpy as np\n",
    "\n",
    "# Create a 2D array of ones\n",
    "ones_array = np.ones((2, 3))\n",
    "print(ones_array)\n",
    "# Output:\n",
    "# [[1. 1. 1.]\n",
    "#  [1. 1. 1.]]\n"
   ]
  },
  {
   "cell_type": "code",
   "execution_count": 67,
   "id": "718a4b53",
   "metadata": {},
   "outputs": [
    {
     "name": "stdout",
     "output_type": "stream",
     "text": [
      "[[1. 0. 0.]\n",
      " [0. 1. 0.]\n",
      " [0. 0. 1.]]\n"
     ]
    }
   ],
   "source": [
    "#numpy.eye()\n",
    "\n",
    "#The eye() function creates an identity matrix (a square matrix with ones on the main diagonal and zeros elsewhere).\n",
    "\n",
    "import numpy as np\n",
    "\n",
    "# Create a 3x3 identity matrix\n",
    "identity_matrix = np.eye(3)\n",
    "print(identity_matrix)\n",
    "# Output:\n",
    "# [[1. 0. 0.]\n",
    "#  [0. 1. 0.]\n",
    "#  [0. 0. 1.]]\n"
   ]
  },
  {
   "cell_type": "code",
   "execution_count": 68,
   "id": "ce8bbd24",
   "metadata": {},
   "outputs": [
    {
     "name": "stdout",
     "output_type": "stream",
     "text": [
      "[1 5 9]\n"
     ]
    }
   ],
   "source": [
    "#numpy.diag()\n",
    "\n",
    "#The diag() function extracts the diagonal or constructs a diagonal array.\n",
    "\n",
    "import numpy as np\n",
    "\n",
    "# Create a 3x3 array and extract its diagonal\n",
    "matrix = np.array([[1, 2, 3], [4, 5, 6], [7, 8, 9]])\n",
    "diagonal_elements = np.diag(matrix)\n",
    "print(diagonal_elements)\n",
    "# Output: [1 5 9]\n"
   ]
  },
  {
   "cell_type": "code",
   "execution_count": 70,
   "id": "59070f94",
   "metadata": {},
   "outputs": [
    {
     "name": "stdout",
     "output_type": "stream",
     "text": [
      "3\n"
     ]
    }
   ],
   "source": [
    "#numpy.randint()\n",
    "\n",
    "#The randint() function generates random integers from a specified low (inclusive) to a specified high (exclusive).\n",
    "\n",
    "import numpy as np\n",
    "\n",
    "# Generate a random integer between 1 (inclusive) and 10 (exclusive)\n",
    "random_integer = np.random.randint(1, 10)\n",
    "print(random_integer)\n",
    "# Output: a random integer between 1 and 9\n"
   ]
  },
  {
   "cell_type": "code",
   "execution_count": 73,
   "id": "f2cb53da",
   "metadata": {},
   "outputs": [
    {
     "name": "stdout",
     "output_type": "stream",
     "text": [
      "0.45165457327655645\n"
     ]
    }
   ],
   "source": [
    "#numpy.rand()\n",
    "\n",
    "#The rand() function generates random numbers from a uniform distribution over [0, 1).\n",
    "\n",
    "import numpy as np\n",
    "\n",
    "# Generate a random number between 0 and 1\n",
    "random_number = np.random.rand()\n",
    "print(random_number)\n",
    "# Output: a random float between 0 and 1\n"
   ]
  },
  {
   "cell_type": "code",
   "execution_count": 76,
   "id": "b87f1b24",
   "metadata": {},
   "outputs": [
    {
     "name": "stdout",
     "output_type": "stream",
     "text": [
      "0.3745401188473625 0.9507143064099162\n"
     ]
    }
   ],
   "source": [
    "#numpy.seed()\n",
    "\n",
    "#The seed() function sets the seed for NumPy's pseudo-random number generator. This is useful for reproducibility.\n",
    "\n",
    "import numpy as np\n",
    "\n",
    "# Set the seed for reproducibility\n",
    "np.random.seed(42)\n",
    "\n",
    "# Generate two random numbers\n",
    "random1 = np.random.rand()\n",
    "random2 = np.random.rand()\n",
    "\n",
    "print(random1, random2)\n",
    "# Output: two reproducible random numbers\n"
   ]
  },
  {
   "cell_type": "code",
   "execution_count": 77,
   "id": "70c629cb",
   "metadata": {},
   "outputs": [
    {
     "name": "stdout",
     "output_type": "stream",
     "text": [
      "[0.   0.25 0.5  0.75 1.  ]\n"
     ]
    }
   ],
   "source": [
    "#numpy.linspace()\n",
    "\n",
    "#The linspace() function creates an array of evenly spaced values over a specified range.\n",
    "\n",
    "import numpy as np\n",
    "\n",
    "# Create an array of 5 values evenly spaced between 0 and 1\n",
    "evenly_spaced_values = np.linspace(0, 1, 5)\n",
    "print(evenly_spaced_values)\n",
    "# Output: [0.   0.25 0.5  0.75 1.  ]\n"
   ]
  },
  {
   "cell_type": "code",
   "execution_count": 78,
   "id": "15fb1228",
   "metadata": {},
   "outputs": [
    {
     "name": "stdout",
     "output_type": "stream",
     "text": [
      "[1 2 3 4 5]\n"
     ]
    }
   ],
   "source": [
    "#numpy.unique()\n",
    "\n",
    "#The unique() function returns the unique elements of an array.\n",
    "\n",
    "import numpy as np\n",
    "\n",
    "# Create an array with repeated elements\n",
    "arr = np.array([1, 2, 2, 3, 4, 4, 5])\n",
    "\n",
    "# Get the unique elements\n",
    "unique_elements = np.unique(arr)\n",
    "print(unique_elements)\n",
    "# Output: [1 2 3 4 5]\n",
    "\n"
   ]
  },
  {
   "cell_type": "markdown",
   "id": "a7341ba5",
   "metadata": {},
   "source": [
    "# Q- 14 How can you reshape your array in numpy ? Please provide example also ?"
   ]
  },
  {
   "cell_type": "markdown",
   "id": "d7094e7f",
   "metadata": {},
   "source": [
    "# Ans-\n",
    "In NumPy, the reshape() function is used to change the shape of an array. It returns a new array with the same data but a different shape. The reshape() function takes the desired shape as its argument."
   ]
  },
  {
   "cell_type": "code",
   "execution_count": 80,
   "id": "de17b825",
   "metadata": {},
   "outputs": [
    {
     "name": "stdout",
     "output_type": "stream",
     "text": [
      "Original 1D array:\n",
      "[ 0  1  2  3  4  5  6  7  8  9 10 11]\n",
      "\n",
      "Reshaped 2D array:\n",
      "[[ 0  1  2  3]\n",
      " [ 4  5  6  7]\n",
      " [ 8  9 10 11]]\n"
     ]
    }
   ],
   "source": [
    "import numpy as np\n",
    "\n",
    "# Create a 1D array with 12 elements\n",
    "original_array = np.arange(12)\n",
    "print(\"Original 1D array:\")\n",
    "print(original_array)\n",
    "\n",
    "# Reshape the array to a 3x4 matrix\n",
    "reshaped_array = original_array.reshape(3, 4)\n",
    "print(\"\\nReshaped 2D array:\")\n",
    "print(reshaped_array)\n"
   ]
  },
  {
   "cell_type": "markdown",
   "id": "6e3f309a",
   "metadata": {},
   "source": [
    "# Q- 15 what is argmin() and argmax() in numpy ? please exaplain using an example ?"
   ]
  },
  {
   "cell_type": "markdown",
   "id": "f62e88ad",
   "metadata": {},
   "source": [
    "# Ans-\n",
    "In NumPy, argmin() and argmax() are functions that return the indices of the minimum and maximum values, respectively, along a specified axis. These functions are useful for finding the position (index) of the minimum and maximum elements in an array."
   ]
  },
  {
   "cell_type": "code",
   "execution_count": 81,
   "id": "fbbd9e45",
   "metadata": {},
   "outputs": [
    {
     "name": "stdout",
     "output_type": "stream",
     "text": [
      "Index of minimum element: 1\n"
     ]
    }
   ],
   "source": [
    "#Example using argmin():\n",
    "\n",
    "import numpy as np\n",
    "\n",
    "# Create a 1D array\n",
    "arr = np.array([3, 1, 4, 1, 5, 9, 2, 6])\n",
    "\n",
    "# Find the index of the minimum element\n",
    "min_index = np.argmin(arr)\n",
    "print(\"Index of minimum element:\", min_index)\n"
   ]
  },
  {
   "cell_type": "code",
   "execution_count": 82,
   "id": "4a413a6e",
   "metadata": {},
   "outputs": [
    {
     "name": "stdout",
     "output_type": "stream",
     "text": [
      "Index of maximum element: 5\n"
     ]
    }
   ],
   "source": [
    "#Example using argmax():\n",
    "\n",
    "import numpy as np\n",
    "\n",
    "# Create a 1D array\n",
    "arr = np.array([3, 1, 4, 1, 5, 9, 2, 6])\n",
    "\n",
    "# Find the index of the maximum element\n",
    "max_index = np.argmax(arr)\n",
    "print(\"Index of maximum element:\", max_index)\n"
   ]
  },
  {
   "cell_type": "code",
   "execution_count": null,
   "id": "b805da85",
   "metadata": {},
   "outputs": [],
   "source": []
  }
 ],
 "metadata": {
  "kernelspec": {
   "display_name": "Python 3 (ipykernel)",
   "language": "python",
   "name": "python3"
  },
  "language_info": {
   "codemirror_mode": {
    "name": "ipython",
    "version": 3
   },
   "file_extension": ".py",
   "mimetype": "text/x-python",
   "name": "python",
   "nbconvert_exporter": "python",
   "pygments_lexer": "ipython3",
   "version": "3.11.4"
  }
 },
 "nbformat": 4,
 "nbformat_minor": 5
}
