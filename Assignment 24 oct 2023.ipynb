{
 "cells": [
  {
   "cell_type": "code",
   "execution_count": 1,
   "id": "2f93ef6d",
   "metadata": {},
   "outputs": [],
   "source": [
    "# Q-1  What is Python ? How to check current version of python ? \n",
    "\n",
    "# Ans:\n",
    "# Python is an interpreted, object-oriented, high-level programming language with dynamic semantics \n",
    "# developed by Guido van Rossum. It was originally released in 1991.\n",
    "# Python is used for server-side web development, software development, mathematics, and system scripting.\n",
    "\n",
    "# To check python current version type \"Python\" in Command prompt."
   ]
  },
  {
   "cell_type": "code",
   "execution_count": 2,
   "id": "7ffe025b",
   "metadata": {},
   "outputs": [],
   "source": [
    "# Q-2 Difference between Python version 2 and version 3? \n",
    "\n",
    "# ans:\n",
    "\n",
    "# Python 2 was launched in 2000; Python 3 was launched in 2008.\n",
    "# Python 2 stores strings by ASCII; Python 3 uses Unicode.\n",
    "# Python discontinued Python 2 support in January 2020; Python 3 remains the most popular choice.\n",
    "\n"
   ]
  },
  {
   "cell_type": "code",
   "execution_count": 3,
   "id": "f385ab06",
   "metadata": {},
   "outputs": [],
   "source": [
    "# Q- 3 Difference between call by value and call by reference ?\n",
    "\n",
    "# Ans:\n",
    "# Call by value:-The parameter values are copied to function parameter and then two types of parameters are stored \n",
    "# in the memory locations.\n",
    "\n",
    "# Call by reference:-\n",
    "# The actual, as well as the formal parameters refer to the same location and if changes are made inside \n",
    "# the functions the functions are reflected in the actual parameter of the caller.\n"
   ]
  },
  {
   "cell_type": "code",
   "execution_count": 5,
   "id": "fdca33a2",
   "metadata": {},
   "outputs": [],
   "source": [
    "# Q- 4   Difference between local variable and global variable ? \n",
    "# Ans:\n",
    "# A global variable is one that is “declared” outside of the functions in a program and can, therefore, \n",
    "# be accessed by any of the functions. \n",
    "# A local variable is declared inside a specific function and can only be accessed by the function in which it is declared.    "
   ]
  },
  {
   "cell_type": "code",
   "execution_count": 6,
   "id": "e1b31c28",
   "metadata": {},
   "outputs": [],
   "source": [
    "# Q.5 How to create a user defined list ? Difference between list and tuple ? minimum 3 differences are required?\n",
    "# Ans:\n",
    "# To create user defined list for that we create an empty list first, then size of list is taking by user, \n",
    "# after that we have to run a required loop, then use input from user to execute program\n",
    "\n",
    "#1. tuples are immutable objects, lists are mutable.\n",
    "# 2.  tuples are more memory efficient than lists.\n",
    "# 3. Tuples are also more memory efficient than the lists.\n"
   ]
  },
  {
   "cell_type": "code",
   "execution_count": null,
   "id": "1e0836e6",
   "metadata": {},
   "outputs": [],
   "source": [
    "# Q-6 Difference between Dictionary and sets ? minimum 3 differences are required ? \n",
    "# Ans:\n",
    "\n",
    "# A set is a built-in data structure in Python that represents a collection of unique elements.\n",
    "# A Dictionary is a collection of key-value pairs, where each key is unique and associated with a value.\n",
    "\n",
    "# 1. Sets can be modified while Dictionaries cannot be modified\n",
    "#   2. Set is immutable, dict is mutable\n",
    "# 3. set is unindexed dictionary is indexed\n"
   ]
  }
 ],
 "metadata": {
  "kernelspec": {
   "display_name": "Python 3 (ipykernel)",
   "language": "python",
   "name": "python3"
  },
  "language_info": {
   "codemirror_mode": {
    "name": "ipython",
    "version": 3
   },
   "file_extension": ".py",
   "mimetype": "text/x-python",
   "name": "python",
   "nbconvert_exporter": "python",
   "pygments_lexer": "ipython3",
   "version": "3.11.4"
  }
 },
 "nbformat": 4,
 "nbformat_minor": 5
}
